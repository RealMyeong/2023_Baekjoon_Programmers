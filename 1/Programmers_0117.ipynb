{
  "nbformat": 4,
  "nbformat_minor": 0,
  "metadata": {
    "colab": {
      "provenance": [],
      "authorship_tag": "ABX9TyMelhEef5ggWo4pdzEVI7GU",
      "include_colab_link": true
    },
    "kernelspec": {
      "name": "python3",
      "display_name": "Python 3"
    },
    "language_info": {
      "name": "python"
    }
  },
  "cells": [
    {
      "cell_type": "markdown",
      "metadata": {
        "id": "view-in-github",
        "colab_type": "text"
      },
      "source": [
        "<a href=\"https://colab.research.google.com/github/RealMyeong/2023_Baekjoon_Programmers/blob/main/1/Programmers_0117.ipynb\" target=\"_parent\"><img src=\"https://colab.research.google.com/assets/colab-badge.svg\" alt=\"Open In Colab\"/></a>"
      ]
    },
    {
      "cell_type": "code",
      "source": [
        "# 주식 가격\n",
        "from collections import deque\n",
        "\n",
        "def solution(prices):\n",
        "    queue = deque(prices)\n",
        "    answer = []\n",
        "    \n",
        "    while queue:\n",
        "        price = queue.popleft()\n",
        "        sec = 0\n",
        "        for q in queue:\n",
        "            sec += 1\n",
        "            if price > q:\n",
        "                break \n",
        "        answer.append(sec)        \n",
        "    return answer"
      ],
      "metadata": {
        "id": "yqdJ9EkayvS5"
      },
      "execution_count": null,
      "outputs": []
    },
    {
      "cell_type": "code",
      "source": [
        "# prices = [1, 2, 3, 2, 3, 1] return [5, 4, 1, 2, 1, 0]\n",
        "def solution(prices):\n",
        "    length = len(prices)\n",
        "    \n",
        "    # answer을 max값으로 초기화  \n",
        "    answer = [ i for i in range (length - 1, -1, -1)]\n",
        "    \n",
        "    # 주식 가격이 떨어질 경우 찾기\n",
        "    stack = [0]\n",
        "    for i in range (1, length):\n",
        "        while stack and prices[stack[-1]] > prices[i]:\n",
        "            j = stack.pop()\n",
        "            answer[j] = i - j\n",
        "        stack.append(i)\n",
        "    return answer"
      ],
      "metadata": {
        "id": "NSuhYkNPSFvz"
      },
      "execution_count": null,
      "outputs": []
    }
  ]
}