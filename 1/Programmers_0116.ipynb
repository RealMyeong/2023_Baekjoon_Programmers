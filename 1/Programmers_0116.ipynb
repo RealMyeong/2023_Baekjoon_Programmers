{
  "nbformat": 4,
  "nbformat_minor": 0,
  "metadata": {
    "colab": {
      "provenance": [],
      "authorship_tag": "ABX9TyOQZAmBOczVxGmM1eYwCHOs",
      "include_colab_link": true
    },
    "kernelspec": {
      "name": "python3",
      "display_name": "Python 3"
    },
    "language_info": {
      "name": "python"
    }
  },
  "cells": [
    {
      "cell_type": "markdown",
      "metadata": {
        "id": "view-in-github",
        "colab_type": "text"
      },
      "source": [
        "<a href=\"https://colab.research.google.com/github/RealMyeong/2023_Baekjoon_Programmers/blob/main/1/Programmers_0116.ipynb\" target=\"_parent\"><img src=\"https://colab.research.google.com/assets/colab-badge.svg\" alt=\"Open In Colab\"/></a>"
      ]
    },
    {
      "cell_type": "code",
      "source": [
        "# 가장 가까운 같은 글자\n",
        "def solution(s):\n",
        "    answer = []\n",
        "    chr_dict = {}\n",
        "    \n",
        "    for idx, chr_ in enumerate(s):\n",
        "        if chr_ not in chr_dict:\n",
        "            answer.append(-1)\n",
        "            chr_dict[chr_] = idx\n",
        "        else:\n",
        "            dist = idx - chr_dict[chr_]\n",
        "            answer.append(dist)\n",
        "            chr_dict[chr_] = idx\n",
        "    return answer"
      ],
      "metadata": {
        "id": "yqdJ9EkayvS5"
      },
      "execution_count": null,
      "outputs": []
    }
  ]
}