{
  "nbformat": 4,
  "nbformat_minor": 0,
  "metadata": {
    "colab": {
      "provenance": [],
      "authorship_tag": "ABX9TyOdUBUn0GWya21B8OvY0mqL",
      "include_colab_link": true
    },
    "kernelspec": {
      "name": "python3",
      "display_name": "Python 3"
    },
    "language_info": {
      "name": "python"
    }
  },
  "cells": [
    {
      "cell_type": "markdown",
      "metadata": {
        "id": "view-in-github",
        "colab_type": "text"
      },
      "source": [
        "<a href=\"https://colab.research.google.com/github/RealMyeong/2023_Baekjoon_Programmers/blob/main/1/Programmers_0120.ipynb\" target=\"_parent\"><img src=\"https://colab.research.google.com/assets/colab-badge.svg\" alt=\"Open In Colab\"/></a>"
      ]
    },
    {
      "cell_type": "code",
      "source": [
        "# 연속 부분 수열 합의 개수\n",
        "def solution(elements):\n",
        "    answer = 0\n",
        "    circle_ele = elements + elements\n",
        "    \n",
        "    seq_len = 2\n",
        "    sum_set = set(elements+[sum(elements)])\n",
        "    \n",
        "    while seq_len < len(elements):\n",
        "        for i in range(len(elements)):\n",
        "            sum_set.add(sum(circle_ele[i:i+seq_len]))\n",
        "        seq_len += 1\n",
        "    answer = len(sum_set)\n",
        "    return answer"
      ],
      "metadata": {
        "id": "yqdJ9EkayvS5"
      },
      "execution_count": null,
      "outputs": []
    }
  ]
}