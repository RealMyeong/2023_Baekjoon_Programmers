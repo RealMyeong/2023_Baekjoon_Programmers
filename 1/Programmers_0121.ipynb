{
  "nbformat": 4,
  "nbformat_minor": 0,
  "metadata": {
    "colab": {
      "provenance": [],
      "authorship_tag": "ABX9TyOD6TGKbhzg48vQdsuMH3+x",
      "include_colab_link": true
    },
    "kernelspec": {
      "name": "python3",
      "display_name": "Python 3"
    },
    "language_info": {
      "name": "python"
    }
  },
  "cells": [
    {
      "cell_type": "markdown",
      "metadata": {
        "id": "view-in-github",
        "colab_type": "text"
      },
      "source": [
        "<a href=\"https://colab.research.google.com/github/RealMyeong/2023_Baekjoon_Programmers/blob/main/1/Programmers_0121.ipynb\" target=\"_parent\"><img src=\"https://colab.research.google.com/assets/colab-badge.svg\" alt=\"Open In Colab\"/></a>"
      ]
    },
    {
      "cell_type": "code",
      "source": [
        "# 주차 요금 계산\n",
        "\n",
        "import math\n",
        "\n",
        "def solution(fees, records):\n",
        "    answer = []\n",
        "    car_history = {}\n",
        "    \n",
        "    car_list = [i.split() for i in records]\n",
        "    car_list.sort(key= lambda x : x[1])\n",
        "    for car in car_list:\n",
        "        if car[1] not in car_history:\n",
        "            car_history[car[1]] = [car[0].split(':')]\n",
        "        else:\n",
        "            car_history[car[1]].append(car[0].split(':'))\n",
        "    \n",
        "    for car, time in car_history.items():\n",
        "        total_time = []\n",
        "        total_h = 0\n",
        "        total_m = 0\n",
        "        \n",
        "        if len(time) % 2 != 0:\n",
        "            time.append(['23','59'])\n",
        "            \n",
        "        for i in range(len(time)-1):\n",
        "            if i % 2 == 0:\n",
        "                h = (int(time[i+1][0]) - int(time[i][0]))\n",
        "                m = (int(time[i+1][1]) - int(time[i][1]))\n",
        "                if m < 0:\n",
        "                    h -= 1\n",
        "                    m += 60\n",
        "                    total_h += h\n",
        "                    total_m += m\n",
        "                else:\n",
        "                    total_h += h\n",
        "                    total_m += m\n",
        "        \n",
        "        total_h *= 60\n",
        "        \n",
        "        fee = 0\n",
        "        total_time = total_h + total_m\n",
        "        if total_time < fees[0]:\n",
        "            fee = fees[1]\n",
        "            answer.append(fee)\n",
        "            \n",
        "        elif total_time >= fees[0]:\n",
        "            fee += fees[1]\n",
        "            extra_time = total_time - fees[0]\n",
        "            extra_fee = math.ceil(extra_time / fees[2])*fees[3]\n",
        "            fee += extra_fee\n",
        "            answer.append(fee)\n",
        "        \n",
        "    return answer"
      ],
      "metadata": {
        "id": "yqdJ9EkayvS5",
        "colab": {
          "base_uri": "https://localhost:8080/"
        },
        "outputId": "d724fe9d-32ec-449a-f05d-739f7ba9ef53"
      },
      "execution_count": 2,
      "outputs": [
        {
          "output_type": "execute_result",
          "data": {
            "text/plain": [
              "1"
            ]
          },
          "metadata": {},
          "execution_count": 2
        }
      ]
    }
  ]
}