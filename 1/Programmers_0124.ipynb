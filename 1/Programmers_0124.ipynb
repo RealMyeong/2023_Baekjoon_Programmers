{
  "nbformat": 4,
  "nbformat_minor": 0,
  "metadata": {
    "colab": {
      "provenance": [],
      "authorship_tag": "ABX9TyPWkgnC4HP2j8uRSj5fF1bY",
      "include_colab_link": true
    },
    "kernelspec": {
      "name": "python3",
      "display_name": "Python 3"
    },
    "language_info": {
      "name": "python"
    }
  },
  "cells": [
    {
      "cell_type": "markdown",
      "metadata": {
        "id": "view-in-github",
        "colab_type": "text"
      },
      "source": [
        "<a href=\"https://colab.research.google.com/github/RealMyeong/2023_Baekjoon_Programmers/blob/main/1/Programmers_0124.ipynb\" target=\"_parent\"><img src=\"https://colab.research.google.com/assets/colab-badge.svg\" alt=\"Open In Colab\"/></a>"
      ]
    },
    {
      "cell_type": "code",
      "source": [
        "# n 진수 게임\n",
        "\n",
        "def n_radix(n, num):\n",
        "    a = num\n",
        "    num_ = ''\n",
        "    num2alpha = {10:'A', 11:'B', 12:'C', 13:'D', 14:'E', 15:'F'}\n",
        "    while a > 0:\n",
        "        rest = a % n\n",
        "        a = a//n\n",
        "        if rest < 10:\n",
        "            num_ += str(rest)\n",
        "        else:\n",
        "            num_ += num2alpha[rest]\n",
        "    num_ = num_[::-1]\n",
        "    return num_\n",
        "\n",
        "def solution(n, t, m, p):\n",
        "    \n",
        "    answer = ''\n",
        "    for i in range(t*m):\n",
        "        if i==0:\n",
        "            answer += '0'\n",
        "        else:\n",
        "            answer += n_radix(n, i)\n",
        "            \n",
        "    answer = answer[p-1:t*m:m]\n",
        "    return answer"
      ],
      "metadata": {
        "id": "yqdJ9EkayvS5",
        "colab": {
          "base_uri": "https://localhost:8080/"
        },
        "outputId": "d724fe9d-32ec-449a-f05d-739f7ba9ef53"
      },
      "execution_count": null,
      "outputs": [
        {
          "output_type": "execute_result",
          "data": {
            "text/plain": [
              "1"
            ]
          },
          "metadata": {},
          "execution_count": 2
        }
      ]
    }
  ]
}