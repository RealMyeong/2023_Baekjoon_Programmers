{
  "nbformat": 4,
  "nbformat_minor": 0,
  "metadata": {
    "colab": {
      "provenance": [],
      "authorship_tag": "ABX9TyMDA1wLeFfkj7k8wUQTFumH",
      "include_colab_link": true
    },
    "kernelspec": {
      "name": "python3",
      "display_name": "Python 3"
    },
    "language_info": {
      "name": "python"
    }
  },
  "cells": [
    {
      "cell_type": "markdown",
      "metadata": {
        "id": "view-in-github",
        "colab_type": "text"
      },
      "source": [
        "<a href=\"https://colab.research.google.com/github/RealMyeong/2023_Baekjoon_Programmers/blob/main/1/Programmers_1006.ipynb\" target=\"_parent\"><img src=\"https://colab.research.google.com/assets/colab-badge.svg\" alt=\"Open In Colab\"/></a>"
      ]
    },
    {
      "cell_type": "code",
      "source": [
        "# k진수에서 소수 개수 구하기\n",
        "import math\n",
        "def solution(n, k):\n",
        "    answer = 0\n",
        "    \n",
        "    k_num = ''\n",
        "    while n > 0:\n",
        "        n_rest = n % k\n",
        "        k_num += str(n_rest)\n",
        "        n = n//k\n",
        "    k_num = k_num[::-1]\n",
        "    \n",
        "    candidate = [word for word in k_num.split('0') if word != '1' and word != '']\n",
        "    \n",
        "    for cand in candidate:\n",
        "        num = int(cand)\n",
        "        error = 0\n",
        "        for i in range(2, int(math.sqrt(num))+1):\n",
        "            if num % i == 0:\n",
        "                error += 1\n",
        "                break\n",
        "        if error == 0:\n",
        "            answer += 1\n",
        "\n",
        "    return answer"
      ],
      "metadata": {
        "id": "yqdJ9EkayvS5",
        "colab": {
          "base_uri": "https://localhost:8080/"
        },
        "outputId": "989f896e-0caa-45a7-ed37-706d1f177fa8"
      },
      "execution_count": null,
      "outputs": [
        {
          "output_type": "execute_result",
          "data": {
            "text/plain": [
              "4"
            ]
          },
          "metadata": {},
          "execution_count": 1
        }
      ]
    }
  ]
}
