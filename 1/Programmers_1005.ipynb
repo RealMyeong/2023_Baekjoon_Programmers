{
  "nbformat": 4,
  "nbformat_minor": 0,
  "metadata": {
    "colab": {
      "provenance": [],
      "authorship_tag": "ABX9TyNE4IHPz+jWAJ5rzQ1eiDe4",
      "include_colab_link": true
    },
    "kernelspec": {
      "name": "python3",
      "display_name": "Python 3"
    },
    "language_info": {
      "name": "python"
    }
  },
  "cells": [
    {
      "cell_type": "markdown",
      "metadata": {
        "id": "view-in-github",
        "colab_type": "text"
      },
      "source": [
        "<a href=\"https://colab.research.google.com/github/RealMyeong/2023_Baekjoon_Programmers/blob/main/1/Programmers_1005.ipynb\" target=\"_parent\"><img src=\"https://colab.research.google.com/assets/colab-badge.svg\" alt=\"Open In Colab\"/></a>"
      ]
    },
    {
      "cell_type": "code",
      "source": [
        "# 야근 지수\n",
        "# 효율성 통과 못함...\n",
        "def solution(n, works):\n",
        "    answer = 0\n",
        "    \n",
        "    for _ in range(n):\n",
        "        if sum(works)==0:\n",
        "            return 0\n",
        "        works[works.index(max(works))] -= 1\n",
        "    \n",
        "    for i in works:\n",
        "        if i!=0:\n",
        "            answer += i**2\n",
        "    return answer"
      ],
      "metadata": {
        "id": "yqdJ9EkayvS5",
        "colab": {
          "base_uri": "https://localhost:8080/"
        },
        "outputId": "989f896e-0caa-45a7-ed37-706d1f177fa8"
      },
      "execution_count": null,
      "outputs": [
        {
          "output_type": "execute_result",
          "data": {
            "text/plain": [
              "4"
            ]
          },
          "metadata": {},
          "execution_count": 1
        }
      ]
    },
    {
      "cell_type": "code",
      "source": [
        "# 다른 풀이\n",
        "# max heap을 이용한 풀이\n",
        "\n",
        "import heapq\n",
        "\n",
        "def solution(n, works):\n",
        "    if n >= sum(works):\n",
        "        return 0\n",
        "    \n",
        "    works = [-w for w in works]\n",
        "    heapq.heapify(works)\n",
        "    for _ in range(n):\n",
        "        i = heapq.heappop(works)\n",
        "        i += 1\n",
        "        heapq.heappush(works, i)\n",
        "    \n",
        "    return sum([w ** 2 for w in works])"
      ],
      "metadata": {
        "id": "wSkeNq3qiSxZ"
      },
      "execution_count": null,
      "outputs": []
    }
  ]
}