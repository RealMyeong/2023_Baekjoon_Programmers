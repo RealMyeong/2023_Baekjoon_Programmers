{
  "nbformat": 4,
  "nbformat_minor": 0,
  "metadata": {
    "colab": {
      "provenance": [],
      "authorship_tag": "ABX9TyOzZlvxsipsQM4AbvYrXYTg",
      "include_colab_link": true
    },
    "kernelspec": {
      "name": "python3",
      "display_name": "Python 3"
    },
    "language_info": {
      "name": "python"
    }
  },
  "cells": [
    {
      "cell_type": "markdown",
      "metadata": {
        "id": "view-in-github",
        "colab_type": "text"
      },
      "source": [
        "<a href=\"https://colab.research.google.com/github/RealMyeong/2023_Baekjoon_Programmers/blob/main/1/Programmers_0113.ipynb\" target=\"_parent\"><img src=\"https://colab.research.google.com/assets/colab-badge.svg\" alt=\"Open In Colab\"/></a>"
      ]
    },
    {
      "cell_type": "code",
      "source": [
        "# 오픈 채팅방\n",
        "# 딕셔너리 형태로 풀려고 했지만 실패\n",
        "from collections import defaultdict\n",
        "\n",
        "def solution(record):\n",
        "    answer = []\n",
        "    user_dict = defaultdict(list)\n",
        "    for i in record:\n",
        "        a = i.split()\n",
        "        if a[0]=='Enter':\n",
        "            if a[1] not in user_dict:\n",
        "                user_dict[a[1]].append([a[2],'님이 들어왔습니다.'])\n",
        "            else:\n",
        "                for t in user_dict[a[1]]:\n",
        "                    t[0] = a[2]\n",
        "        elif a[0]=='Leave':\n",
        "            user_dict[a[1]].append([user_dict[a[1]][0], '님이 나갔습니다.'])\n",
        "        elif a[0] == 'Change':\n",
        "            for t in user_dict[a[1]]:\n",
        "                t[0] = a[2]\n",
        "    print(user_dict)\n",
        "    return answer"
      ],
      "metadata": {
        "id": "yqdJ9EkayvS5"
      },
      "execution_count": null,
      "outputs": []
    },
    {
      "cell_type": "code",
      "source": [
        "# 리스트와 딕셔너리를 이용한 풀이\n",
        "\n",
        "from collections import defaultdict\n",
        "\n",
        "def solution(record):\n",
        "    answer = []\n",
        "    name_dict = {}\n",
        "    \n",
        "    record_split = [i.split() for i in record]\n",
        "    # user_id의 최종 이름 저장 딕셔너리\n",
        "    for i in record_split:\n",
        "        if i[0] == 'Enter':\n",
        "            name_dict[i[1]] = i[2]\n",
        "        elif i[0] == 'Leave':\n",
        "            pass\n",
        "        elif i[0] == 'Change':\n",
        "            name_dict[i[1]] = i[2]\n",
        "    \n",
        "    # 메세지 저장\n",
        "    for i in record_split:\n",
        "        if i[0] == 'Enter':\n",
        "            answer.append(name_dict[i[1]]+'님이 들어왔습니다.')\n",
        "        elif i[0] == 'Leave':\n",
        "            answer.append(name_dict[i[1]]+'님이 나갔습니다.')\n",
        "        elif i[0] == 'Change':\n",
        "            pass\n",
        "    return answer"
      ],
      "metadata": {
        "id": "zmCT4sv9lTuO"
      },
      "execution_count": null,
      "outputs": []
    }
  ]
}