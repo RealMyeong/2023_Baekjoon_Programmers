{
  "nbformat": 4,
  "nbformat_minor": 0,
  "metadata": {
    "colab": {
      "provenance": [],
      "authorship_tag": "ABX9TyMTZYPZDiE+NNJJM8ikSMNr",
      "include_colab_link": true
    },
    "kernelspec": {
      "name": "python3",
      "display_name": "Python 3"
    },
    "language_info": {
      "name": "python"
    }
  },
  "cells": [
    {
      "cell_type": "markdown",
      "metadata": {
        "id": "view-in-github",
        "colab_type": "text"
      },
      "source": [
        "<a href=\"https://colab.research.google.com/github/RealMyeong/2023_Baekjoon_Programmers/blob/main/1/Programmers_1007.ipynb\" target=\"_parent\"><img src=\"https://colab.research.google.com/assets/colab-badge.svg\" alt=\"Open In Colab\"/></a>"
      ]
    },
    {
      "cell_type": "code",
      "source": [
        "#  다트 게임\n",
        "def solution(dartResult):\n",
        "    answer = 0\n",
        "    result = []\n",
        "    \n",
        "    each_dart = []\n",
        "    for i in dartResult:\n",
        "        if each_dart==[]:\n",
        "            each_dart.append(i)\n",
        "        else:\n",
        "            if each_dart[-1].isdigit() and i.isdigit():\n",
        "                each_dart[-1] = each_dart[-1] + i\n",
        "            elif not i.isdigit():\n",
        "                each_dart.append(i)\n",
        "            else:\n",
        "                result.append(each_dart)\n",
        "                each_dart = [i]\n",
        "    result.append(each_dart)\n",
        "    \n",
        "    score = []\n",
        "    for j in result:\n",
        "        n = 0\n",
        "        for t in j:\n",
        "            if t.isdigit():\n",
        "                n += int(t)\n",
        "            elif t == 'S':\n",
        "                n = n ** 1\n",
        "            elif t == 'D':\n",
        "                n = n ** 2\n",
        "            elif t == 'T':\n",
        "                n = n ** 3\n",
        "            elif t == '*':\n",
        "                if score == []:\n",
        "                    n = n * 2\n",
        "                else:\n",
        "                    score[-1] = score[-1] * 2\n",
        "                    n = n * 2\n",
        "            elif t == '#':\n",
        "                n = n * (-1)\n",
        "        score.append(n)\n",
        "        \n",
        "    answer = sum(score)\n",
        "    return answer"
      ],
      "metadata": {
        "id": "yqdJ9EkayvS5",
        "colab": {
          "base_uri": "https://localhost:8080/"
        },
        "outputId": "989f896e-0caa-45a7-ed37-706d1f177fa8"
      },
      "execution_count": null,
      "outputs": [
        {
          "output_type": "execute_result",
          "data": {
            "text/plain": [
              "4"
            ]
          },
          "metadata": {},
          "execution_count": 1
        }
      ]
    },
    {
      "cell_type": "code",
      "source": [
        "# 다른 풀이\n",
        "# 정규 표현식으로 푼 풀이가 너무 깔끔했음\n",
        "\n",
        "import re\n",
        "\n",
        "def solution(dartResult):\n",
        "    bonus = {'S' : 1, 'D' : 2, 'T' : 3}\n",
        "    option = {'' : 1, '*' : 2, '#' : -1}\n",
        "    p = re.compile('(\\d+)([SDT])([*#]?)')\n",
        "    dart = p.findall(dartResult)\n",
        "    for i in range(len(dart)):\n",
        "        if dart[i][2] == '*' and i > 0:\n",
        "            dart[i-1] *= 2\n",
        "        dart[i] = int(dart[i][0]) ** bonus[dart[i][1]] * option[dart[i][2]]\n",
        "\n",
        "    answer = sum(dart)\n",
        "    return answer"
      ],
      "metadata": {
        "id": "Df0psLDMEwVU"
      },
      "execution_count": null,
      "outputs": []
    }
  ]
}