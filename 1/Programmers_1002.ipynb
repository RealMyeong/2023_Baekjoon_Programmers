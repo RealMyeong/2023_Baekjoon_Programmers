{
  "nbformat": 4,
  "nbformat_minor": 0,
  "metadata": {
    "colab": {
      "provenance": [],
      "authorship_tag": "ABX9TyOy2x0eAWx7Fddke1MQG3E4",
      "include_colab_link": true
    },
    "kernelspec": {
      "name": "python3",
      "display_name": "Python 3"
    },
    "language_info": {
      "name": "python"
    }
  },
  "cells": [
    {
      "cell_type": "markdown",
      "metadata": {
        "id": "view-in-github",
        "colab_type": "text"
      },
      "source": [
        "<a href=\"https://colab.research.google.com/github/RealMyeong/2023_Baekjoon_Programmers/blob/main/1/Programmers_1002.ipynb\" target=\"_parent\"><img src=\"https://colab.research.google.com/assets/colab-badge.svg\" alt=\"Open In Colab\"/></a>"
      ]
    },
    {
      "cell_type": "code",
      "source": [
        "# 타겟 넘버\n",
        "def solution(numbers, target):\n",
        "    answer = 0\n",
        "    queue = [[numbers[0],0], [-1*numbers[0], 0]]\n",
        "    n = len(numbers)\n",
        "    while queue:\n",
        "        temp, idx = queue.pop()\n",
        "        idx += 1\n",
        "        if idx < n:\n",
        "            queue.append([temp+numbers[idx], idx])\n",
        "            queue.append([temp-numbers[idx], idx])\n",
        "        else:\n",
        "            if temp == target:\n",
        "                answer += 1\n",
        "    return answer"
      ],
      "metadata": {
        "id": "yqdJ9EkayvS5",
        "colab": {
          "base_uri": "https://localhost:8080/"
        },
        "outputId": "989f896e-0caa-45a7-ed37-706d1f177fa8"
      },
      "execution_count": null,
      "outputs": [
        {
          "output_type": "execute_result",
          "data": {
            "text/plain": [
              "4"
            ]
          },
          "metadata": {},
          "execution_count": 1
        }
      ]
    },
    {
      "cell_type": "code",
      "source": [
        "# 다른 풀이\n",
        "\n",
        "from itertools import product\n",
        "\n",
        "def solution(numbers, target):\n",
        "\n",
        "    l = [(x, -x) for x in numbers]\n",
        "    s = list(map(sum, product(*l)))\n",
        "    return s.count(target)"
      ],
      "metadata": {
        "id": "i5uGwD8cTJ0b"
      },
      "execution_count": null,
      "outputs": []
    }
  ]
}