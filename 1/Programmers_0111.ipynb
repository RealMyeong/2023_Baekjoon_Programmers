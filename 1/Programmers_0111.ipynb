{
  "nbformat": 4,
  "nbformat_minor": 0,
  "metadata": {
    "colab": {
      "provenance": [],
      "authorship_tag": "ABX9TyO/ypHFBIX8erlsIUryA+kj",
      "include_colab_link": true
    },
    "kernelspec": {
      "name": "python3",
      "display_name": "Python 3"
    },
    "language_info": {
      "name": "python"
    }
  },
  "cells": [
    {
      "cell_type": "markdown",
      "metadata": {
        "id": "view-in-github",
        "colab_type": "text"
      },
      "source": [
        "<a href=\"https://colab.research.google.com/github/RealMyeong/2023_Baekjoon_Programmers/blob/main/1/Programmers_0111.ipynb\" target=\"_parent\"><img src=\"https://colab.research.google.com/assets/colab-badge.svg\" alt=\"Open In Colab\"/></a>"
      ]
    },
    {
      "cell_type": "code",
      "source": [
        "# 더 맵게\n",
        "# 시간 초과가 나옴.. 자료 구조의 문제인가?\n",
        "def solution(scoville, K):\n",
        "    answer = 0\n",
        "\n",
        "    scoville.sort()\n",
        "    low_scov = [x for x in scoville if x < K]\n",
        "    high_scov = [x for x in scoville if x >= K]\n",
        "    \n",
        "    while len(low_scov) >= 2:\n",
        "        new_scov = low_scov.pop(0) + low_scov.pop(0) * 2\n",
        "        answer += 1\n",
        "        if new_scov >= K:\n",
        "            high_scov.append(new_scov)\n",
        "            \n",
        "    if low_scov:\n",
        "        answer += 1\n",
        "\n",
        "    if not high_scov:\n",
        "        return -1\n",
        "    return answer"
      ],
      "metadata": {
        "id": "yqdJ9EkayvS5"
      },
      "execution_count": null,
      "outputs": []
    },
    {
      "cell_type": "code",
      "source": [
        "# 다른 풀이\n",
        "import heapq\n",
        "\n",
        "def solution(scoville, K):\n",
        "    answer = 0\n",
        "    heapq.heapify(scoville)\n",
        "\n",
        "    while scoville[0] < K:\n",
        "        mix = heapq.heappop(scoville) + heapq.heappop(scoville)*2\n",
        "        heapq.heappush(scoville, mix)\n",
        "        answer += 1\n",
        "        if len(scoville) == 1 and scoville[0] <K:\n",
        "            return -1\n",
        "    return answer"
      ],
      "metadata": {
        "id": "OZHAmmk0UfeK"
      },
      "execution_count": null,
      "outputs": []
    }
  ]
}