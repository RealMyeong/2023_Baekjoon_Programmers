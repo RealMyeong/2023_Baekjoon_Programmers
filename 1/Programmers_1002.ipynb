{
  "nbformat": 4,
  "nbformat_minor": 0,
  "metadata": {
    "colab": {
      "provenance": [],
      "authorship_tag": "ABX9TyMxgV+utIfMY2xA+qJvlKi5",
      "include_colab_link": true
    },
    "kernelspec": {
      "name": "python3",
      "display_name": "Python 3"
    },
    "language_info": {
      "name": "python"
    }
  },
  "cells": [
    {
      "cell_type": "markdown",
      "metadata": {
        "id": "view-in-github",
        "colab_type": "text"
      },
      "source": [
        "<a href=\"https://colab.research.google.com/github/RealMyeong/2023_Baekjoon_Programmers/blob/main/1/Programmers_1002.ipynb\" target=\"_parent\"><img src=\"https://colab.research.google.com/assets/colab-badge.svg\" alt=\"Open In Colab\"/></a>"
      ]
    },
    {
      "cell_type": "code",
      "source": [
        "# 타겟 넘버\n",
        "def solution(numbers, target):\n",
        "    answer = 0\n",
        "    queue = [[numbers[0],0], [-1*numbers[0], 0]]\n",
        "    n = len(numbers)\n",
        "    while queue:\n",
        "        temp, idx = queue.pop()\n",
        "        idx += 1\n",
        "        if idx < n:\n",
        "            queue.append([temp+numbers[idx], idx])\n",
        "            queue.append([temp-numbers[idx], idx])\n",
        "        else:\n",
        "            if temp == target:\n",
        "                answer += 1\n",
        "    return answer"
      ],
      "metadata": {
        "id": "yqdJ9EkayvS5",
        "colab": {
          "base_uri": "https://localhost:8080/"
        },
        "outputId": "989f896e-0caa-45a7-ed37-706d1f177fa8"
      },
      "execution_count": null,
      "outputs": [
        {
          "output_type": "execute_result",
          "data": {
            "text/plain": [
              "4"
            ]
          },
          "metadata": {},
          "execution_count": 1
        }
      ]
    },
    {
      "cell_type": "code",
      "source": [
        "# 다른 풀이\n",
        "from itertools import product\n",
        "\n",
        "def solution(numbers, target):\n",
        "\n",
        "    l = [(x, -x) for x in numbers]\n",
        "    s = list(map(sum, product(*l)))\n",
        "    return s.count(target)"
      ],
      "metadata": {
        "id": "i5uGwD8cTJ0b"
      },
      "execution_count": null,
      "outputs": []
    },
    {
      "cell_type": "markdown",
      "source": [
        "itertools의 product()가 너무 신기해서 실제로 어떻게 작동하는지 뽑아봄"
      ],
      "metadata": {
        "id": "mCLjRcRb-oap"
      }
    },
    {
      "cell_type": "code",
      "source": [
        "from itertools import product\n",
        "\n",
        "numbers = [4, 1, 2, 1]\n",
        "\n",
        "l = [(x, -x) for x in numbers]\n",
        "\n",
        "s = list(product(*l))\n",
        "s"
      ],
      "metadata": {
        "colab": {
          "base_uri": "https://localhost:8080/"
        },
        "id": "4E4B6kes-i5U",
        "outputId": "83921256-07c7-4a73-8665-fb3779c76c69"
      },
      "execution_count": 1,
      "outputs": [
        {
          "output_type": "execute_result",
          "data": {
            "text/plain": [
              "[(4, 1, 2, 1),\n",
              " (4, 1, 2, -1),\n",
              " (4, 1, -2, 1),\n",
              " (4, 1, -2, -1),\n",
              " (4, -1, 2, 1),\n",
              " (4, -1, 2, -1),\n",
              " (4, -1, -2, 1),\n",
              " (4, -1, -2, -1),\n",
              " (-4, 1, 2, 1),\n",
              " (-4, 1, 2, -1),\n",
              " (-4, 1, -2, 1),\n",
              " (-4, 1, -2, -1),\n",
              " (-4, -1, 2, 1),\n",
              " (-4, -1, 2, -1),\n",
              " (-4, -1, -2, 1),\n",
              " (-4, -1, -2, -1)]"
            ]
          },
          "metadata": {},
          "execution_count": 1
        }
      ]
    },
    {
      "cell_type": "code",
      "source": [
        "s = list(map(sum,product(*l)))\n",
        "s"
      ],
      "metadata": {
        "colab": {
          "base_uri": "https://localhost:8080/"
        },
        "id": "dNLqPcZT-2Fu",
        "outputId": "ff580e90-3677-41dc-e0ff-ff894230acbe"
      },
      "execution_count": 6,
      "outputs": [
        {
          "output_type": "execute_result",
          "data": {
            "text/plain": [
              "[8, 6, 4, 2, 6, 4, 2, 0, 0, -2, -4, -6, -2, -4, -6, -8]"
            ]
          },
          "metadata": {},
          "execution_count": 6
        }
      ]
    }
  ]
}