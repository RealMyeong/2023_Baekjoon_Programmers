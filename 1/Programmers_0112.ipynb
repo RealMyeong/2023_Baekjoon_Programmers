{
  "nbformat": 4,
  "nbformat_minor": 0,
  "metadata": {
    "colab": {
      "provenance": [],
      "authorship_tag": "ABX9TyMr/fGSoT5QvdeCY/vOcn8I",
      "include_colab_link": true
    },
    "kernelspec": {
      "name": "python3",
      "display_name": "Python 3"
    },
    "language_info": {
      "name": "python"
    }
  },
  "cells": [
    {
      "cell_type": "markdown",
      "metadata": {
        "id": "view-in-github",
        "colab_type": "text"
      },
      "source": [
        "<a href=\"https://colab.research.google.com/github/RealMyeong/2023_Baekjoon_Programmers/blob/main/1/Programmers_0112.ipynb\" target=\"_parent\"><img src=\"https://colab.research.google.com/assets/colab-badge.svg\" alt=\"Open In Colab\"/></a>"
      ]
    },
    {
      "cell_type": "code",
      "source": [
        "# 피로도\n",
        "# 최소 피로도와 소모 피로도의 차이가 큰 것부터 돌면 될 것 같았는데..\n",
        "# 어딘가에서 문제가 생겨버린 것 같음\n",
        "def solution(k, dungeons):\n",
        "    answer = 0\n",
        "    t_list = [(i, x[0]-x[1]) for i, x in enumerate(dungeons)]\n",
        "    t_list = sorted(t_list, key=lambda x : x[1], reverse=True)\n",
        "    \n",
        "    for i in t_list:\n",
        "        \n",
        "        if dungeons[i[0]][0] <= k:\n",
        "            k -= dungeons[i[0]][1]\n",
        "            answer += 1\n",
        "    return answer"
      ],
      "metadata": {
        "id": "yqdJ9EkayvS5"
      },
      "execution_count": null,
      "outputs": []
    },
    {
      "cell_type": "code",
      "source": [
        "# 순열을 이용한 풀이\n",
        "from itertools import permutations\n",
        "\n",
        "def solution(k, dungeons):\n",
        "    answer = 0\n",
        "    p_dun = list(permutations(dungeons))\n",
        "    \n",
        "    for i in p_dun:\n",
        "        answer2 = 0\n",
        "        t = k\n",
        "        for j in i:\n",
        "            if j[0] <= t:\n",
        "                t -= j[1]\n",
        "                answer2 += 1\n",
        "        answer = max(answer, answer2)\n",
        "        \n",
        "    return answer"
      ],
      "metadata": {
        "id": "zmCT4sv9lTuO"
      },
      "execution_count": null,
      "outputs": []
    }
  ]
}