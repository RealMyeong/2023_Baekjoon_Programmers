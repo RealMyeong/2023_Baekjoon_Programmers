{
  "nbformat": 4,
  "nbformat_minor": 0,
  "metadata": {
    "colab": {
      "provenance": [],
      "authorship_tag": "ABX9TyPn8c/QUC6cNhvzRZv1V8oc",
      "include_colab_link": true
    },
    "kernelspec": {
      "name": "python3",
      "display_name": "Python 3"
    },
    "language_info": {
      "name": "python"
    }
  },
  "cells": [
    {
      "cell_type": "markdown",
      "metadata": {
        "id": "view-in-github",
        "colab_type": "text"
      },
      "source": [
        "<a href=\"https://colab.research.google.com/github/RealMyeong/2023_Baekjoon_Programmers/blob/main/1/Programmers_0110.ipynb\" target=\"_parent\"><img src=\"https://colab.research.google.com/assets/colab-badge.svg\" alt=\"Open In Colab\"/></a>"
      ]
    },
    {
      "cell_type": "code",
      "source": [
        "# [3차] 압축\n",
        "# 처음에 이리저리 해보던 풀이\n",
        "# 조건이 너무 달려서 머리가 아파짐\n",
        "def solution(msg):\n",
        "    answer = []\n",
        "    idx_dict = {}\n",
        "    alpha = 'abcdefghijklmnopqrstuvwxyz'.upper()\n",
        "    for i in range(len(alpha)):\n",
        "        idx_dict[i+1] = alpha[i]\n",
        "    alpha2idx = {value : key for key, value in idx_dict.items()}\n",
        "    \n",
        "    i = 0\n",
        "    while len(msg) > 0:\n",
        "        if msg[i] in alpha2idx:\n",
        "            answer.append(alpha2idx[msg[i]])\n",
        "            for j in range(1, len(msg)):\n",
        "                sub_str = msg[i:j+1]\n",
        "                if sub_str in alpha2idx:\n",
        "                    answer.append(alpha2idx[sub_str])\n",
        "                    msg = msg[i+2:]\n",
        "                else:\n",
        "                    alpha2idx.update({sub_str : max(alpha2idx.values()) + 1})\n",
        "                    msg = msg[i+1:]\n",
        "\n",
        "    print(alpha2idx)\n",
        "    return answer"
      ],
      "metadata": {
        "id": "yqdJ9EkayvS5"
      },
      "execution_count": null,
      "outputs": []
    },
    {
      "cell_type": "code",
      "source": [
        "# 다른 사람의 풀이\n",
        "# start, end를 정하고 시작하는게 신기했음\n",
        "# 왜 난 마지막 자리만 바꾸려고 했을까...\n",
        "def solution(msg):\n",
        "    answer = []\n",
        "    d = dict()\n",
        "    for c in range(ord('A'), ord('Z') + 1):\n",
        "        d[chr(c)] = c - ord('A') + 1\n",
        "    idx = 27\n",
        "    start, end = 0, 1\n",
        "\n",
        "    while end < len(msg) + 1:\n",
        "        s = msg[start:end]\n",
        "        if s in d:\n",
        "            end += 1\n",
        "        else:\n",
        "            answer.append(d[s[:-1]])\n",
        "            d[s] = idx\n",
        "            idx += 1\n",
        "            start = end - 1\n",
        "    answer.append(d[s])\n",
        "    return answer"
      ],
      "metadata": {
        "colab": {
          "base_uri": "https://localhost:8080/",
          "height": 35
        },
        "id": "k3h7rBbi8rwM",
        "outputId": "74be453e-09fe-4193-b136-b9ff2ff8a0b6"
      },
      "execution_count": null,
      "outputs": [
        {
          "output_type": "execute_result",
          "data": {
            "text/plain": [
              "'1230321'"
            ],
            "application/vnd.google.colaboratory.intrinsic+json": {
              "type": "string"
            }
          },
          "metadata": {},
          "execution_count": 6
        }
      ]
    },
    {
      "cell_type": "code",
      "source": [
        "# 또 다른 풀이\n",
        "def solution(msg):\n",
        "    alphabet = \"ABCDEFGHIJKLMNOPQRSTUVWXYZ\"\n",
        "    d = {k:v for (k,v) in zip(alphabet, list(range(1,27)))}\n",
        "    answer = []\n",
        "\n",
        "    while True:\n",
        "        if msg in d:\n",
        "            answer.append(d[msg])\n",
        "            break\n",
        "        for i in range(1, len(msg)+1):\n",
        "            if msg[0:i] not in d:\n",
        "                answer.append(d[msg[0:i-1]])\n",
        "                d[msg[0:i]] = len(d)+1\n",
        "                msg = msg[i-1:]\n",
        "                break\n",
        "\n",
        "    return answer"
      ],
      "metadata": {
        "id": "7HbHmLKXVh_g"
      },
      "execution_count": null,
      "outputs": []
    }
  ]
}