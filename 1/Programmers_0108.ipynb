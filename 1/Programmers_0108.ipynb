{
  "nbformat": 4,
  "nbformat_minor": 0,
  "metadata": {
    "colab": {
      "provenance": [],
      "authorship_tag": "ABX9TyMyS9SRPtCyZg1GYMknz6jF",
      "include_colab_link": true
    },
    "kernelspec": {
      "name": "python3",
      "display_name": "Python 3"
    },
    "language_info": {
      "name": "python"
    }
  },
  "cells": [
    {
      "cell_type": "markdown",
      "metadata": {
        "id": "view-in-github",
        "colab_type": "text"
      },
      "source": [
        "<a href=\"https://colab.research.google.com/github/RealMyeong/2023_Baekjoon_Programmers/blob/main/1/Programmers_1008.ipynb\" target=\"_parent\"><img src=\"https://colab.research.google.com/assets/colab-badge.svg\" alt=\"Open In Colab\"/></a>"
      ]
    },
    {
      "cell_type": "code",
      "source": [
        "#  귤 고르기\n",
        "from collections import Counter\n",
        "\n",
        "def solution(k, tangerine):\n",
        "    answer = 0\n",
        "    # [1] 자료 변환 \n",
        "    count = sorted(Counter(tangerine).items(),reverse = True, key = lambda x : x[1])\n",
        "    # [2] 최소 종류 계산\n",
        "    for key, value in count:\n",
        "        if k <= 0:\n",
        "          break\n",
        "        k -= value\n",
        "        answer += 1\n",
        "    return answer"
      ],
      "metadata": {
        "id": "yqdJ9EkayvS5",
        "colab": {
          "base_uri": "https://localhost:8080/"
        },
        "outputId": "989f896e-0caa-45a7-ed37-706d1f177fa8"
      },
      "execution_count": null,
      "outputs": [
        {
          "output_type": "execute_result",
          "data": {
            "text/plain": [
              "4"
            ]
          },
          "metadata": {},
          "execution_count": 1
        }
      ]
    },
    {
      "cell_type": "code",
      "source": [
        "# 처음 풀이\n",
        "# 왜 틀리는건지 도저히 모르겠음.\n",
        "from collections import Counter\n",
        "\n",
        "def solution(k, tangerine):\n",
        "    answer = 0\n",
        "    cnt = Counter(tangerine)\n",
        "    \n",
        "    for key, value in cnt.items():\n",
        "        if k <= 0:\n",
        "            break\n",
        "        else:\n",
        "            k -= value\n",
        "            answer += 1\n",
        "\n",
        "    return answer"
      ],
      "metadata": {
        "id": "nawjeBycS1-K"
      },
      "execution_count": null,
      "outputs": []
    }
  ]
}
