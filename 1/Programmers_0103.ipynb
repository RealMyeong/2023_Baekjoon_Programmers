{
  "nbformat": 4,
  "nbformat_minor": 0,
  "metadata": {
    "colab": {
      "provenance": [],
      "authorship_tag": "ABX9TyPJ15/Tix2UwcKED6d47tMK",
      "include_colab_link": true
    },
    "kernelspec": {
      "name": "python3",
      "display_name": "Python 3"
    },
    "language_info": {
      "name": "python"
    }
  },
  "cells": [
    {
      "cell_type": "markdown",
      "metadata": {
        "id": "view-in-github",
        "colab_type": "text"
      },
      "source": [
        "<a href=\"https://colab.research.google.com/github/RealMyeong/2023_Baekjoon_Programmers/blob/main/1/Programmers_1003.ipynb\" target=\"_parent\"><img src=\"https://colab.research.google.com/assets/colab-badge.svg\" alt=\"Open In Colab\"/></a>"
      ]
    },
    {
      "cell_type": "code",
      "source": [
        "# 네트워크\n",
        "# DFS\n",
        "\n",
        "def solution(n, computers):\n",
        "\n",
        "  def DFS(i):\n",
        "    visited[i] = 1\n",
        "    for a in range(n):\n",
        "      if computers[i][a] and not visited[a]:\n",
        "        DFS(a)\n",
        "  \n",
        "  answer = 0\n",
        "  visited = [0 for i in range(len(computers))]\n",
        "  for i in range(n):\n",
        "    if not visited[i]:\n",
        "      DFS(i)\n",
        "      answer += 1\n",
        "  return answer"
      ],
      "metadata": {
        "id": "yqdJ9EkayvS5",
        "colab": {
          "base_uri": "https://localhost:8080/"
        },
        "outputId": "989f896e-0caa-45a7-ed37-706d1f177fa8"
      },
      "execution_count": null,
      "outputs": [
        {
          "output_type": "execute_result",
          "data": {
            "text/plain": [
              "4"
            ]
          },
          "metadata": {},
          "execution_count": 1
        }
      ]
    },
    {
      "cell_type": "code",
      "source": [
        "# BFS\n",
        "\n",
        "from collections import deque\n",
        "\n",
        "def solution(n, computers):\n",
        "\n",
        "  def BFS(i):\n",
        "    q = deque()\n",
        "    q.append(i)\n",
        "    while q:\n",
        "      i = q.popleft()\n",
        "      visited[i] = 1\n",
        "      for a in range(n):\n",
        "        if computers[i][a] and not visited[a]:\n",
        "          q.append(a)\n",
        "  \n",
        "  answer = 0\n",
        "  visited = [0 for i in range(len(computers))]\n",
        "  for i in range(n):\n",
        "    if not visited[i]:\n",
        "      BFS(i)\n",
        "      answer += 1\n",
        "  return answer"
      ],
      "metadata": {
        "id": "i5uGwD8cTJ0b"
      },
      "execution_count": null,
      "outputs": []
    }
  ]
}
